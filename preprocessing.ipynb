{
 "cells": [
  {
   "cell_type": "code",
   "execution_count": null,
   "metadata": {},
   "outputs": [],
   "source": [
    "import os\n",
    "import numpy as np\n",
    "import pandas as pd\n",
    "from sklearn.model_selection import train_test_split\n",
    "import pickle\n",
    "from tqdm import tqdm\n",
    "\n",
    "source_dir = \"raw_data\"\n",
    "out_dir = \"data\"\n",
    "\n",
    "classes = [\n",
    "    \"airplane\", \"anvil\", \"apple\", \"axe\", \"banana\", \"baseball\", \"bee\",\n",
    "    \"bicycle\", \"book\", \"boomerang\", \"butterfly\", \"cactus\", \"clock\",\n",
    "    \"cloud\", \"crown\", \"donut\", \"duck\", \"envelope\", \"fish\", \"flower\",\n",
    "    \"hourglass\", \"light bulb\", \"lightning\", \"mountain\", \"scissors\",\n",
    "    \"shark\", \"skull\", \"smiley face\", \"star\"\n",
    "]\n",
    "\n",
    "label_dict = {class_name: index for index, class_name in enumerate(classes)}"
   ]
  },
  {
   "cell_type": "code",
   "execution_count": null,
   "metadata": {},
   "outputs": [],
   "source": [
    "data_frames = []\n",
    "\n",
    "for class_name in tqdm(classes):\n",
    "    file_name = f\"{class_name}.ndjson\"\n",
    "    file_path = os.path.join(source_dir, file_name)\n",
    "    \n",
    "    df = pd.read_json(file_path, lines=True)\n",
    "    data_frames.append(df)\n",
    "    \n",
    "df = pd.concat(data_frames)"
   ]
  },
  {
   "cell_type": "code",
   "execution_count": null,
   "metadata": {},
   "outputs": [],
   "source": [
    "from image_processing import drawing_to_PIL, PIL_to_np\n",
    "\n",
    "X = []\n",
    "y = []\n",
    "\n",
    "for _, row in tqdm(df.iterrows(), total=df.shape[0]):\n",
    "    label = label_dict[row['word']]\n",
    "    \n",
    "    pil_img = drawing_to_PIL(row['drawing'])\n",
    "    np_img = PIL_to_np(pil_img)\n",
    "    \n",
    "    X.append(np_img)\n",
    "    y.append(label)"
   ]
  },
  {
   "cell_type": "code",
   "execution_count": null,
   "metadata": {},
   "outputs": [],
   "source": [
    "X = np.array(X)\n",
    "X = np.expand_dims(X, axis=1)\n",
    "X = X / 255.0\n",
    "\n",
    "y = np.array(y)\n",
    "\n",
    "X_train, X_test, y_train, y_test = train_test_split(X, y, random_state=42)"
   ]
  },
  {
   "cell_type": "code",
   "execution_count": null,
   "metadata": {},
   "outputs": [],
   "source": [
    "np.save(os.path.join(out_dir, 'X_train'), X_train)\n",
    "np.save(os.path.join(out_dir, 'y_train'), y_train)\n",
    "np.save(os.path.join(out_dir, 'X_test'), X_test)\n",
    "np.save(os.path.join(out_dir, 'y_test'), y_test)\n",
    "\n",
    "with open(os.path.join(out_dir, 'label_dict.pkl'), 'wb') as f:\n",
    "    pickle.dump(label_dict, f)"
   ]
  }
 ],
 "metadata": {
  "kernelspec": {
   "display_name": "Python 3",
   "language": "python",
   "name": "python3"
  },
  "language_info": {
   "codemirror_mode": {
    "name": "ipython",
    "version": 3
   },
   "file_extension": ".py",
   "mimetype": "text/x-python",
   "name": "python",
   "nbconvert_exporter": "python",
   "pygments_lexer": "ipython3",
   "version": "3.11.3"
  }
 },
 "nbformat": 4,
 "nbformat_minor": 2
}
